{
 "cells": [
  {
   "cell_type": "markdown",
   "metadata": {},
   "source": [
    "# --- Day 1: Historian Hysteria ---\n",
    "\n",
    "The Chief Historian is always present for the big Christmas sleigh launch, but nobody has seen him in months! Last anyone heard, he was visiting locations that are historically significant to the North Pole; a group of Senior Historians has asked you to accompany them as they check the places they think he was most likely to visit.\n",
    "\n",
    "As each location is checked, they will mark it on their list with a star. They figure the Chief Historian must be in one of the first fifty places they'll look, so in order to save Christmas, you need to help them get fifty stars on their list before Santa takes off on December 25th.\n",
    "\n",
    "Collect stars by solving puzzles. Two puzzles will be made available on each day in the Advent calendar; the second puzzle is unlocked when you complete the first. Each puzzle grants one star. Good luck!\n",
    "\n",
    "You haven't even left yet and the group of Elvish Senior Historians has already hit a problem: their list of locations to check is currently empty. Eventually, someone decides that the best place to check first would be the Chief Historian's office.\n",
    "\n",
    "Upon pouring into the office, everyone confirms that the Chief Historian is indeed nowhere to be found. Instead, the Elves discover an assortment of notes and lists of historically significant locations! This seems to be the planning the Chief Historian was doing before he left. Perhaps these notes can be used to determine which locations to search?\n",
    "\n",
    "Throughout the Chief's office, the historically significant locations are listed not by name but by a unique number called the location ID. To make sure they don't miss anything, The Historians split into two groups, each searching the office and trying to create their own complete list of location IDs.\n",
    "\n",
    "There's just one problem: by holding the two lists up side by side (your puzzle input), it quickly becomes clear that the lists aren't very similar. Maybe you can help The Historians reconcile their lists?\n",
    "\n",
    "For example:\n",
    "\n",
    "3  -- 4\n",
    "\n",
    "4  -- 3\n",
    "\n",
    "2  -- 5\n",
    "\n",
    "1  -- 3\n",
    "\n",
    "3  -- 9\n",
    "\n",
    "3  -- 3\n",
    "\n",
    "Maybe the lists are only off by a small amount! To find out, pair up the numbers and measure how far apart they are. Pair up the smallest number in the left list with the smallest number in the right list, then the second-smallest left number with the second-smallest right number, and so on.\n",
    "\n",
    "Within each pair, figure out how far apart the two numbers are; you'll need to add up all of those distances. For example, if you pair up a 3 from the left list with a 7 from the right list, the distance apart is 4; if you pair up a 9 with a 3, the distance apart is 6.\n",
    "\n",
    "In the example list above, the pairs and distances would be as follows:\n",
    "\n",
    "The smallest number in the left list is 1, and the smallest number in the right list is 3. The distance between them is 2.\n",
    "The second-smallest number in the left list is 2, and the second-smallest number in the right list is another 3. The distance between them is 1.\n",
    "The third-smallest number in both lists is 3, so the distance between them is 0.\n",
    "The next numbers to pair up are 3 and 4, a distance of 1.\n",
    "The fifth-smallest numbers in each list are 3 and 5, a distance of 2.\n",
    "Finally, the largest number in the left list is 4, while the largest number in the right list is 9; these are a distance 5 apart.\n",
    "To find the total distance between the left list and the right list, add up the distances between all of the pairs you found. In the example above, this is 2 + 1 + 0 + 1 + 2 + 5, a total distance of 11!\n",
    "\n",
    "Your actual left and right lists contain many location IDs. What is the total distance between your lists?"
   ]
  },
  {
   "cell_type": "markdown",
   "metadata": {},
   "source": [
    "# Puzzle Attempt\n",
    "\n",
    "To solve this puzzle I we will try to create two separate lists in Python code. List are easy to sort and iterate over. The trickier part will be gathering the lists in the first place.\n",
    "\n",
    "We are given the lists in one big body of text. So, my strategy for handling this will be to use a text file. Instead of copying and pasting the entire body in this code, I will paste it into a plain text file. I will then read the file using code and split up the lists into the 'left' list and the 'right' list.\n",
    "\n",
    "I have saved the text file as puzzle_input_day_1.txt in the local directory."
   ]
  },
  {
   "cell_type": "code",
   "execution_count": 1,
   "metadata": {},
   "outputs": [],
   "source": [
    "# This is just to help display data.\n",
    "\n",
    "import pprint\n",
    "\n",
    "# This is how we can open a file and read what is in it.\n",
    "\n",
    "with open('puzzle_input_day_1.txt') as file:\n",
    "    puzzle_input = file.read().splitlines()"
   ]
  },
  {
   "cell_type": "code",
   "execution_count": 2,
   "metadata": {},
   "outputs": [
    {
     "name": "stdout",
     "output_type": "stream",
     "text": [
      "['15244   50562',\n",
      " '81245   49036',\n",
      " '92897   21393',\n",
      " '63271   60643',\n",
      " '49672   33212',\n",
      " '92232   76048',\n",
      " '53492   58600',\n",
      " '92941   61161',\n",
      " '58509   86979',\n",
      " '28174   73806']\n"
     ]
    }
   ],
   "source": [
    "# Using readlines() gives up a list with each element being\n",
    "# made up of each line in the text document.\n",
    "# This displays the rirst 10 entries in the list.\n",
    "\n",
    "pprint.pprint(puzzle_input[:10])"
   ]
  },
  {
   "cell_type": "code",
   "execution_count": null,
   "metadata": {},
   "outputs": [],
   "source": [
    "# There are probably multiple ways to gather the data from this list\n",
    "# I am going to intialize some empty list to represent our\n",
    "# 'left' list and 'right' list. Then, I will use a loop to iterate through the list\n",
    "# As I work through the list, I will simply split the lines up and add them to the new lists.\n",
    "\n",
    "left_list = []\n",
    "right_list = []\n",
    "\n",
    "for row in puzzle_input:\n",
    "    left_list.append(row[:5])\n",
    "    right_list.append(row[-5:])"
   ]
  },
  {
   "cell_type": "code",
   "execution_count": 4,
   "metadata": {},
   "outputs": [
    {
     "name": "stdout",
     "output_type": "stream",
     "text": [
      "['15244',\n",
      " '81245',\n",
      " '92897',\n",
      " '63271',\n",
      " '49672',\n",
      " '92232',\n",
      " '53492',\n",
      " '92941',\n",
      " '58509',\n",
      " '28174']\n"
     ]
    }
   ],
   "source": [
    "# Let's check the 'left' list.\n",
    "\n",
    "pprint.pprint(left_list[:10])"
   ]
  },
  {
   "cell_type": "code",
   "execution_count": 5,
   "metadata": {},
   "outputs": [
    {
     "name": "stdout",
     "output_type": "stream",
     "text": [
      "['50562',\n",
      " '49036',\n",
      " '21393',\n",
      " '60643',\n",
      " '33212',\n",
      " '76048',\n",
      " '58600',\n",
      " '61161',\n",
      " '86979',\n",
      " '73806']\n"
     ]
    }
   ],
   "source": [
    "# Let's check the 'right' list.\n",
    "\n",
    "pprint.pprint(right_list[:10])"
   ]
  },
  {
   "cell_type": "markdown",
   "metadata": {},
   "source": [
    "## Moving On!\n",
    "\n",
    "We now have what we need to continue. We can start to actually implement our plan of sorting the lists and performing calculations on them. The first step is simple. Python comes with a method that will help us sort the values in our lists from the smallest to the largest. The next step will be to work our way through the lists with a loop. Each step of the loop we will calculate the difference between each number. We can save that to a new list. Finally, after we have finished making our new list we can just use another built in Python function to add them all together."
   ]
  },
  {
   "cell_type": "code",
   "execution_count": 9,
   "metadata": {},
   "outputs": [
    {
     "name": "stdout",
     "output_type": "stream",
     "text": [
      "['10038',\n",
      " '10073',\n",
      " '10109',\n",
      " '10175',\n",
      " '10346',\n",
      " '10452',\n",
      " '10612',\n",
      " '10667',\n",
      " '10713',\n",
      " '10728']\n",
      "\n",
      "['10033',\n",
      " '10076',\n",
      " '10095',\n",
      " '10100',\n",
      " '10108',\n",
      " '10157',\n",
      " '10161',\n",
      " '10257',\n",
      " '10573',\n",
      " '11213']\n"
     ]
    }
   ],
   "source": [
    "# Let's go ahead and sort both lists.\n",
    "\n",
    "left_list.sort()\n",
    "right_list.sort()\n",
    "\n",
    "# We can print out the first few just to verify that the order has changed and that they are sorted.\n",
    "\n",
    "pprint.pprint(left_list[:10])\n",
    "print()\n",
    "pprint.pprint(right_list[:10])"
   ]
  },
  {
   "cell_type": "code",
   "execution_count": 11,
   "metadata": {},
   "outputs": [],
   "source": [
    "# The next part is simple. We just need to remember to use the absolute value function provided by Python\n",
    "# to make sure we return positive numbers only.\n",
    "\n",
    "list_of_distances = []\n",
    "\n",
    "for index in range(len(left_list)):\n",
    "    distance_value = abs(int(left_list[index]) - int(right_list[index]))\n",
    "    list_of_distances.append(distance_value)"
   ]
  },
  {
   "cell_type": "code",
   "execution_count": 12,
   "metadata": {},
   "outputs": [
    {
     "name": "stdout",
     "output_type": "stream",
     "text": [
      "[5, 3, 14, 75, 238, 295, 451, 410, 140, 485]\n"
     ]
    }
   ],
   "source": [
    "pprint.pprint(list_of_distances[:10])"
   ]
  },
  {
   "cell_type": "code",
   "execution_count": 13,
   "metadata": {},
   "outputs": [
    {
     "name": "stdout",
     "output_type": "stream",
     "text": [
      "The sum of all the distances is: 1660292\n"
     ]
    }
   ],
   "source": [
    "# Now we just use the sum() function to get the sum of all the values in the list of distances\n",
    "\n",
    "sum_of_distances = sum(list_of_distances)\n",
    "print(f\"The sum of all the distances is: {sum_of_distances}\")"
   ]
  },
  {
   "cell_type": "markdown",
   "metadata": {},
   "source": [
    "### All together\n",
    "\n",
    "This is what the code would look like all together and without print statements or comments."
   ]
  },
  {
   "cell_type": "code",
   "execution_count": 14,
   "metadata": {},
   "outputs": [
    {
     "name": "stdout",
     "output_type": "stream",
     "text": [
      "The sum of all the distances is: 1660292\n"
     ]
    }
   ],
   "source": [
    "with open('puzzle_input_day_1.txt') as file:\n",
    "    puzzle_input = file.read().splitlines()\n",
    "\n",
    "left_list = []\n",
    "right_list = []\n",
    "\n",
    "for row in puzzle_input:\n",
    "    left_list.append(row[:5])\n",
    "    right_list.append(row[-5:])\n",
    "\n",
    "left_list.sort()\n",
    "right_list.sort()\n",
    "\n",
    "list_of_distances = []\n",
    "\n",
    "for index in range(len(left_list)):\n",
    "    distance_value = abs(int(left_list[index]) - int(right_list[index]))\n",
    "    list_of_distances.append(distance_value)\n",
    "\n",
    "sum_of_distances = sum(list_of_distances)\n",
    "print(f\"The sum of all the distances is: {sum_of_distances}\")"
   ]
  },
  {
   "cell_type": "markdown",
   "metadata": {},
   "source": [
    "# --- Part Two ---\n",
    "Your analysis only confirmed what everyone feared: the two lists of location IDs are indeed very different.\n",
    "\n",
    "Or are they?\n",
    "\n",
    "The Historians can't agree on which group made the mistakes or how to read most of the Chief's handwriting, but in the commotion you notice an interesting detail: a lot of location IDs appear in both lists! Maybe the other numbers aren't location IDs at all but rather misinterpreted handwriting.\n",
    "\n",
    "This time, you'll need to figure out exactly how often each number from the left list appears in the right list. Calculate a total similarity score by adding up each number in the left list after multiplying it by the number of times that number appears in the right list.\n",
    "\n",
    "Here are the same example lists again:\n",
    "\n",
    "3  -- 4\n",
    "\n",
    "4  -- 3\n",
    "\n",
    "2  -- 5\n",
    "\n",
    "1  -- 3\n",
    "\n",
    "3  -- 9\n",
    "\n",
    "3  -- 3\n",
    "\n",
    "For these example lists, here is the process of finding the similarity score:\n",
    "\n",
    "The first number in the left list is 3. It appears in the right list three times, so the similarity score increases by 3 * 3 = 9.\n",
    "The second number in the left list is 4. It appears in the right list once, so the similarity score increases by 4 * 1 = 4.\n",
    "The third number in the left list is 2. It does not appear in the right list, so the similarity score does not increase (2 * 0 = 0).\n",
    "The fourth number, 1, also does not appear in the right list.\n",
    "The fifth number, 3, appears in the right list three times; the similarity score increases by 9.\n",
    "The last number, 3, appears in the right list three times; the similarity score again increases by 9.\n",
    "So, for these example lists, the similarity score at the end of this process is 31 (9 + 4 + 0 + 0 + 9 + 9).\n",
    "\n",
    "Once again consider your left and right lists. What is their similarity score?"
   ]
  },
  {
   "cell_type": "markdown",
   "metadata": {},
   "source": [
    "## Part Two Attempt\n",
    "\n",
    "My initial plan here is to 'brute force' it. I am thinking of just going one by one in the 'left' list, setting up a counter for each number, and checking it against every single number in the right list. I think this might be inefficient but I am unsure of a better way for this in the moment. After I solve this on my own I may ask Chat GPT for a solution and see if we get something more efficient.\n",
    "\n",
    "For now, the first few steps will be the same. We will take in the text file as input and split it up into the two separate list. This time, there is no need to sort the list."
   ]
  },
  {
   "cell_type": "code",
   "execution_count": 15,
   "metadata": {},
   "outputs": [],
   "source": [
    "with open('puzzle_input_day_1.txt') as file:\n",
    "    puzzle_input = file.read().splitlines()\n",
    "\n",
    "left_list = []\n",
    "right_list = []\n",
    "\n",
    "for row in puzzle_input:\n",
    "    left_list.append(row[:5])\n",
    "    right_list.append(row[-5:])"
   ]
  },
  {
   "cell_type": "code",
   "execution_count": null,
   "metadata": {},
   "outputs": [],
   "source": [
    "# Let's initialize an empty list for our similarity scores\n",
    "\n",
    "list_of_similarity_scores = []\n",
    "\n",
    "# Next, we will set up a loop to check each number in the 'left'\n",
    "# list to each one in the 'right' list\n",
    "# We use a variable that we call 'counter' to keep track\n",
    "# of how many times the number shows up.\n",
    "\n",
    "for left_value in left_list:\n",
    "    counter = 0\n",
    "    for right_value in right_list:\n",
    "        if left_value == right_value:\n",
    "            counter += 1\n",
    "    similarity_score = counter * int(left_value)\n",
    "    if similarity_score != 0:\n",
    "        list_of_similarity_scores.append(similarity_score)"
   ]
  },
  {
   "cell_type": "code",
   "execution_count": 29,
   "metadata": {},
   "outputs": [
    {
     "name": "stdout",
     "output_type": "stream",
     "text": [
      "The similarity score for the puzzle is: 22776016\n"
     ]
    }
   ],
   "source": [
    "sum_of_similarity_scores = sum(list_of_similarity_scores)\n",
    "print(f\"The similarity score for the puzzle is: {sum_of_similarity_scores}\")"
   ]
  },
  {
   "cell_type": "code",
   "execution_count": null,
   "metadata": {},
   "outputs": [],
   "source": []
  }
 ],
 "metadata": {
  "kernelspec": {
   "display_name": ".venv",
   "language": "python",
   "name": "python3"
  },
  "language_info": {
   "codemirror_mode": {
    "name": "ipython",
    "version": 3
   },
   "file_extension": ".py",
   "mimetype": "text/x-python",
   "name": "python",
   "nbconvert_exporter": "python",
   "pygments_lexer": "ipython3",
   "version": "3.12.4"
  }
 },
 "nbformat": 4,
 "nbformat_minor": 2
}
