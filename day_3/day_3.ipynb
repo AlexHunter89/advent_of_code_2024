{
 "cells": [
  {
   "cell_type": "markdown",
   "metadata": {},
   "source": [
    "# --- Day 3: Mull It Over ---\n",
    "\n",
    "\"Our computers are having issues, so I have no idea if we have any Chief Historians in stock! You're welcome to check the warehouse, though,\" says the mildly flustered shopkeeper at the North Pole Toboggan Rental Shop. The Historians head out to take a look.\n",
    "\n",
    "The shopkeeper turns to you. \"Any chance you can see why our computers are having issues again?\"\n",
    "\n",
    "The computer appears to be trying to run a program, but its memory (your puzzle input) is corrupted. All of the instructions have been jumbled up!\n",
    "\n",
    "It seems like the goal of the program is just to multiply some numbers. It does that with instructions like mul(X,Y), where X and Y are each 1-3 digit numbers. For instance, mul(44,46) multiplies 44 by 46 to get a result of 2024. Similarly, mul(123,4) would multiply 123 by 4.\n",
    "\n",
    "However, because the program's memory has been corrupted, there are also many invalid characters that should be ignored, even if they look like part of a mul instruction. Sequences like mul(4*, mul(6,9!, ?(12,34), or mul ( 2 , 4 ) do nothing.\n",
    "\n",
    "For example, consider the following section of corrupted memory:\n",
    "\n",
    "xmul(2,4)%&mul[3,7]!@^do_not_mul(5,5)+mul(32,64]then(mul(11,8)mul(8,5))\n",
    "\n",
    "Only the four highlighted sections are real mul instructions. Adding up the result of each instruction produces 161 (2*4 + 5*5 + 11*8 + 8*5).\n",
    "\n",
    "Scan the corrupted memory for uncorrupted mul instructions. What do you get if you add up all of the results of the multiplications?"
   ]
  },
  {
   "cell_type": "markdown",
   "metadata": {},
   "source": [
    "## Puzzle Attempt"
   ]
  },
  {
   "cell_type": "code",
   "execution_count": 1,
   "metadata": {},
   "outputs": [
    {
     "name": "stdout",
     "output_type": "stream",
     "text": [
      "The sum of multiplying all of the mul functions is: 155955228\n"
     ]
    }
   ],
   "source": [
    "from pathlib import Path\n",
    "import re\n",
    "\n",
    "puzzle_input_path = Path(\"puzzle_input_day_3.txt\")\n",
    "\n",
    "def puzzle_input_reader(file_path):\n",
    "    with open(file_path) as file:\n",
    "        puzzle_input = file.read()\n",
    "        return puzzle_input\n",
    "    \n",
    "puzzle_input = puzzle_input_reader(puzzle_input_path)\n",
    "\n",
    "mul_regex_object = re.compile(r\"mul\\((\\d{1,3}),(\\d{1,3})\\)\")\n",
    "\n",
    "def mul_finder_function(regex_object, puzzle_input):\n",
    "    list_of_mul_functions = regex_object.findall(puzzle_input)\n",
    "    return list_of_mul_functions\n",
    "\n",
    "list_of_mul_functions = mul_finder_function(mul_regex_object, puzzle_input)\n",
    "\n",
    "def mul_pair_multiplier(list_of_split_pairs):\n",
    "    list_of_multiplication_results = []\n",
    "    for mul_pair in list_of_split_pairs:\n",
    "        result = int(mul_pair[0]) * int(mul_pair[1])\n",
    "        list_of_multiplication_results.append(result)\n",
    "    return list_of_multiplication_results\n",
    "\n",
    "list_of_multiplication_results = mul_pair_multiplier(list_of_mul_functions)\n",
    "\n",
    "total_of_all_multiplication_results = sum(list_of_multiplication_results)\n",
    "\n",
    "print(f\"The sum of multiplying all of the mul functions is: {total_of_all_multiplication_results}\")"
   ]
  },
  {
   "cell_type": "markdown",
   "metadata": {},
   "source": [
    "# --- Part Two ---\n",
    "As you scan through the corrupted memory, you notice that some of the conditional statements are also still intact. If you handle some of the uncorrupted conditional statements in the program, you might be able to get an even more accurate result.\n",
    "\n",
    "There are two new instructions you'll need to handle:\n",
    "\n",
    "The do() instruction enables future mul instructions.\n",
    "The don't() instruction disables future mul instructions.\n",
    "Only the most recent do() or don't() instruction applies. At the beginning of the program, mul instructions are enabled.\n",
    "\n",
    "For example:\n",
    "\n",
    "xmul(2,4)&mul[3,7]!^don't()_mul(5,5)+mul(32,64](mul(11,8)undo()?mul(8,5))\n",
    "\n",
    "This corrupted memory is similar to the example from before, but this time the mul(5,5) and mul(11,8) instructions are disabled because there is a don't() instruction before them. The other mul instructions function normally, including the one at the end that gets re-enabled by a do() instruction.\n",
    "\n",
    "This time, the sum of the results is 48 (2*4 + 8*5).\n",
    "\n",
    "Handle the new instructions; what do you get if you add up all of the results of just the enabled multiplications?"
   ]
  },
  {
   "cell_type": "code",
   "execution_count": 2,
   "metadata": {},
   "outputs": [],
   "source": [
    "puzzle_input_path = Path(\"puzzle_input_day_3.txt\")\n",
    "\n",
    "def puzzle_input_reader(file_path):\n",
    "    with open(file_path) as file:\n",
    "        puzzle_input = file.read()\n",
    "        return puzzle_input\n",
    "    \n",
    "puzzle_input = puzzle_input_reader(puzzle_input_path)\n",
    "\n",
    "mul_regex_object = re.compile(r\"mul\\((\\d{1,3}),(\\d{1,3})\\)|do\\(\\)|don't\\(\\)\")\n",
    "\n",
    "def mul_finder_function(regex_object, puzzle_input):\n",
    "    list_of_mul_functions = regex_object.finditer(puzzle_input)\n",
    "    return list_of_mul_functions\n",
    "\n",
    "list_of_mul_functions = mul_finder_function(mul_regex_object, puzzle_input)"
   ]
  },
  {
   "cell_type": "code",
   "execution_count": 3,
   "metadata": {},
   "outputs": [
    {
     "name": "stdout",
     "output_type": "stream",
     "text": [
      "100189366\n"
     ]
    }
   ],
   "source": [
    "mul_enabled = True\n",
    "total_sum = 0\n",
    "\n",
    "for element in list_of_mul_functions:\n",
    "    element_text = element.group(0)\n",
    "\n",
    "    if element_text == \"do()\":\n",
    "        mul_enabled = True\n",
    "    elif element_text == \"don't()\":\n",
    "        mul_enabled = False\n",
    "    elif element.group(1) and element.group(2):\n",
    "        if mul_enabled:\n",
    "            x = int(element.group(1))\n",
    "            y = int(element.group(2))\n",
    "            total_sum += x * y\n",
    "\n",
    "print(total_sum)"
   ]
  },
  {
   "cell_type": "code",
   "execution_count": null,
   "metadata": {},
   "outputs": [],
   "source": []
  }
 ],
 "metadata": {
  "kernelspec": {
   "display_name": ".venv",
   "language": "python",
   "name": "python3"
  },
  "language_info": {
   "codemirror_mode": {
    "name": "ipython",
    "version": 3
   },
   "file_extension": ".py",
   "mimetype": "text/x-python",
   "name": "python",
   "nbconvert_exporter": "python",
   "pygments_lexer": "ipython3",
   "version": "3.12.4"
  }
 },
 "nbformat": 4,
 "nbformat_minor": 2
}
