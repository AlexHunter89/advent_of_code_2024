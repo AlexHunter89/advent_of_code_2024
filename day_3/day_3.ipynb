{
 "cells": [
  {
   "cell_type": "markdown",
   "metadata": {},
   "source": [
    "# --- Day 3: Mull It Over ---\n",
    "\n",
    "\"Our computers are having issues, so I have no idea if we have any Chief Historians in stock! You're welcome to check the warehouse, though,\" says the mildly flustered shopkeeper at the North Pole Toboggan Rental Shop. The Historians head out to take a look.\n",
    "\n",
    "The shopkeeper turns to you. \"Any chance you can see why our computers are having issues again?\"\n",
    "\n",
    "The computer appears to be trying to run a program, but its memory (your puzzle input) is corrupted. All of the instructions have been jumbled up!\n",
    "\n",
    "It seems like the goal of the program is just to multiply some numbers. It does that with instructions like mul(X,Y), where X and Y are each 1-3 digit numbers. For instance, mul(44,46) multiplies 44 by 46 to get a result of 2024. Similarly, mul(123,4) would multiply 123 by 4.\n",
    "\n",
    "However, because the program's memory has been corrupted, there are also many invalid characters that should be ignored, even if they look like part of a mul instruction. Sequences like mul(4*, mul(6,9!, ?(12,34), or mul ( 2 , 4 ) do nothing.\n",
    "\n",
    "For example, consider the following section of corrupted memory:\n",
    "\n",
    "xmul(2,4)%&mul[3,7]!@^do_not_mul(5,5)+mul(32,64]then(mul(11,8)mul(8,5))\n",
    "\n",
    "Only the four highlighted sections are real mul instructions. Adding up the result of each instruction produces 161 (2*4 + 5*5 + 11*8 + 8*5).\n",
    "\n",
    "Scan the corrupted memory for uncorrupted mul instructions. What do you get if you add up all of the results of the multiplications?"
   ]
  },
  {
   "cell_type": "markdown",
   "metadata": {},
   "source": [
    "## Puzzle Attempt"
   ]
  },
  {
   "cell_type": "code",
   "execution_count": 1,
   "metadata": {},
   "outputs": [],
   "source": [
    "from pathlib import Path\n",
    "import re"
   ]
  },
  {
   "cell_type": "code",
   "execution_count": null,
   "metadata": {},
   "outputs": [],
   "source": [
    "puzzle_input_path = Path(\"puzzle_input_day_3.txt\")\n",
    "\n",
    "def puzzle_input_reader(file_path):\n",
    "    with open(file_path) as file:\n",
    "        puzzle_input = file.readlines()\n",
    "        return puzzle_input\n",
    "    \n",
    "puzzle_input = puzzle_input_reader(puzzle_input_path)\n",
    "\n",
    "mul_regex_object = re.compile(r\"mul\\(\\d{1,3},\\d{1,3}\\)\")\n",
    "\n",
    "def mul_finder_function(regex_object, puzzle_input):\n",
    "    list_of_mul_functions = []\n",
    "    for line in puzzle_input:\n",
    "        line_match = regex_object.findall(line)\n",
    "        for mul in line_match:\n",
    "            list_of_mul_functions.append(mul)\n",
    "    return list_of_mul_functions\n",
    "\n",
    "list_of_mul_functions = mul_finder_function(mul_regex_object, puzzle_input)\n",
    "\n",
    "def mul_function_list_cleaner(list_of_mul_functions):\n",
    "    cleaned_list_of_mul_functions = []\n",
    "    for function in list_of_mul_functions:\n",
    "        cleaned_function = function[4:]\n",
    "        cleaned_function = cleaned_function[:-1]\n",
    "        cleaned_list_of_mul_functions.append(cleaned_function)\n",
    "    return cleaned_list_of_mul_functions\n",
    "\n",
    "new_list_of_mul_functions = mul_function_list_cleaner(list_of_mul_functions)\n",
    "\n",
    "def mul_pair_splitter(list_of_mul_pairs):\n",
    "    list_of_split_pairs = []\n",
    "    for mul_pair in list_of_mul_pairs:\n",
    "        list_of_split_pairs.append(mul_pair.split(\",\"))\n",
    "    return list_of_split_pairs\n",
    "\n",
    "split_list_of_mul_functions = mul_pair_splitter(new_list_of_mul_functions)\n",
    "\n",
    "def mul_pair_multiplier(list_of_split_pairs):\n",
    "    list_of_multiplication_results = []\n",
    "    for mul_pair in list_of_split_pairs:\n",
    "        result = int(mul_pair[0]) * int(mul_pair[1])\n",
    "        list_of_multiplication_results.append(result)\n",
    "    return list_of_multiplication_results\n",
    "\n",
    "list_of_multiplication_results = mul_pair_multiplier(split_list_of_mul_functions)\n",
    "\n",
    "total_of_all_multiplication_results = sum(list_of_multiplication_results)\n",
    "\n",
    "print(f\"The sum of multiplying all of the mul functions is: {total_of_all_multiplication_results}\")"
   ]
  }
 ],
 "metadata": {
  "kernelspec": {
   "display_name": ".venv",
   "language": "python",
   "name": "python3"
  },
  "language_info": {
   "codemirror_mode": {
    "name": "ipython",
    "version": 3
   },
   "file_extension": ".py",
   "mimetype": "text/x-python",
   "name": "python",
   "nbconvert_exporter": "python",
   "pygments_lexer": "ipython3",
   "version": "3.12.4"
  }
 },
 "nbformat": 4,
 "nbformat_minor": 2
}
