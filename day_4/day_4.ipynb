{
 "cells": [
  {
   "cell_type": "markdown",
   "metadata": {},
   "source": [
    "# --- Day 4: Ceres Search ---\n",
    "\"Looks like the Chief's not here. Next!\" One of The Historians pulls out a device and pushes the only button on it. After a brief flash, you recognize the interior of the Ceres monitoring station!\n",
    "\n",
    "As the search for the Chief continues, a small Elf who lives on the station tugs on your shirt; she'd like to know if you could help her with her word search (your puzzle input). She only has to find one word: XMAS.\n",
    "\n",
    "This word search allows words to be horizontal, vertical, diagonal, written backwards, or even overlapping other words. It's a little unusual, though, as you don't merely need to find one instance of XMAS - you need to find all of them. Here are a few ways XMAS might appear, where irrelevant characters have been replaced with .:\n",
    "\n",
    "\n",
    "..X...\n",
    "\n",
    ".SAMX.\n",
    "\n",
    ".A..A.\n",
    "\n",
    "XMAS.S\n",
    "\n",
    ".X....\n",
    "\n",
    "The actual word search will be full of letters instead. For example:\n",
    "\n",
    "MMMSXXMASM\n",
    "\n",
    "MSAMXMSMSA\n",
    "\n",
    "AMXSXMAAMM\n",
    "\n",
    "MSAMASMSMX\n",
    "\n",
    "XMASAMXAMM\n",
    "\n",
    "XXAMMXXAMA\n",
    "\n",
    "SMSMSASXSS\n",
    "\n",
    "SAXAMASAAA\n",
    "\n",
    "MAMMMXMMMM\n",
    "\n",
    "MXMXAXMASX\n",
    "\n",
    "In this word search, XMAS occurs a total of 18 times; here's the same word search again, but where letters not involved in any XMAS have been replaced with .:\n",
    "\n",
    "....XXMAS.\n",
    "\n",
    ".SAMXMS...\n",
    "\n",
    "...S..A...\n",
    "\n",
    "..A.A.MS.X\n",
    "\n",
    "XMASAMX.MM\n",
    "\n",
    "X.....XA.A\n",
    "\n",
    "S.S.S.S.SS\n",
    "\n",
    ".A.A.A.A.A\n",
    "\n",
    "..M.M.M.MM\n",
    "\n",
    ".X.X.XMASX\n",
    "\n",
    "Take a look at the little Elf's word search. How many times does XMAS appear?"
   ]
  },
  {
   "cell_type": "markdown",
   "metadata": {},
   "source": [
    "## Puzzle Attempt\n",
    "\n",
    "First, we import unnecessary libraries..."
   ]
  },
  {
   "cell_type": "code",
   "execution_count": 1,
   "metadata": {},
   "outputs": [],
   "source": [
    "from pathlib import Path\n",
    "import re"
   ]
  },
  {
   "cell_type": "markdown",
   "metadata": {},
   "source": [
    "Next, we use one of the unnecessary libraries to get the file that contains our puzzle input."
   ]
  },
  {
   "cell_type": "code",
   "execution_count": 2,
   "metadata": {},
   "outputs": [],
   "source": [
    "puzzle_input_path = Path(\"puzzle_input_day_4.txt\")"
   ]
  },
  {
   "cell_type": "markdown",
   "metadata": {},
   "source": [
    "This function will open the file using the file path we just created. It automatically splits the puzzle input into lines and puts them in a list for us. It returns the list so that we can save it to a variable and use it later."
   ]
  },
  {
   "cell_type": "code",
   "execution_count": 3,
   "metadata": {},
   "outputs": [],
   "source": [
    "def puzzle_input_reader(file_path):\n",
    "    with open(file_path) as file:\n",
    "        puzzle_input = file.read().splitlines()\n",
    "        return puzzle_input"
   ]
  },
  {
   "cell_type": "markdown",
   "metadata": {},
   "source": [
    "We go ahead and use the function. We make sure we save it to a variable so that we can use the puzzle input list."
   ]
  },
  {
   "cell_type": "code",
   "execution_count": 4,
   "metadata": {},
   "outputs": [],
   "source": [
    "puzzle_input = puzzle_input_reader(puzzle_input_path)"
   ]
  },
  {
   "cell_type": "markdown",
   "metadata": {},
   "source": [
    "Let's preview our puzzle input. We will print out the first 5 elements in our list."
   ]
  },
  {
   "cell_type": "code",
   "execution_count": 5,
   "metadata": {},
   "outputs": [
    {
     "name": "stdout",
     "output_type": "stream",
     "text": [
      "SAXMASMMMASAMMMMXXMMXMMMSSMMMXSAAXMSSMSSSSSSSSXSASXMSMMMSASXSXMASXMSSSMXSSMXSMSSXMXXSXMXAMXMASXASXMSAMSSSMMAAXAMMXXSAMMSXSSSSMSMMSMSAXSAMXMX\n",
      "MXXAAMAAMAMASXSSSMMSAMMSAMASMMSXSAMXAAMAAAAAAXSXAMMMAMAAXAMMAXXAXAAAXMAMMAMAMMAMXMAXSASXSAMXAXMSMAMMAAXSAMXSSXMMMAMMASAMXAAAXAAAXAAMAMXAMXAM\n",
      "XSXMASXMMXSAMXAAXMASASMMXXAMAXXAMXXSMMMMMMMMMMXMXMAMASASMMMAMMMMXMMMMSAMSAMAXMAMAMMXSAMXMMXMASXAMXMSMMMSMXMXAXSAMSXSAMASMMMMMSMSMMSMAMSXMASA\n",
      "SMAMASMAMAMASMMMMMASMMXAAMMSSMMMMMXAXXXAMAMASXAASXXSASAXAAASAAAMASAXMSXXSMMMMSASXSMAMXMAMXAMXMXMMAMXAAAMXSMMMXMAMMAMSSXMMMSMAMXXXAAMAAXASAMS\n",
      "XMAMAXXAMSSXSMSAXMXSXSMSMMXAXAXMASAMXMMMSMSASXMXSAMMMMXSMMMMSSXSXSASAMXMMMSMMMAMAAMXMMSXSAXXAMAXASASXMSSXXAAXMXMMMMMASXAXAAMSSXXMXSSXSMMMAXX\n"
     ]
    }
   ],
   "source": [
    "for row in puzzle_input[:5]:\n",
    "    print(row)"
   ]
  },
  {
   "cell_type": "markdown",
   "metadata": {},
   "source": [
    "Let's get a preliminary count of the 'xmas's that appear in the puzzle input. I am going to simply initiate a count variable to keep track of how many appear. We will first scan the input for the two easiest ones to find. We will find all instances of 'xmas' and 'samx' horizontally and add the count to our count variable."
   ]
  },
  {
   "cell_type": "code",
   "execution_count": 6,
   "metadata": {},
   "outputs": [],
   "source": [
    "count_of_xmas_occurences = 0"
   ]
  },
  {
   "cell_type": "markdown",
   "metadata": {},
   "source": [
    "Regex because I used it in the last puzzle and now I like it..."
   ]
  },
  {
   "cell_type": "code",
   "execution_count": 7,
   "metadata": {},
   "outputs": [],
   "source": [
    "xmas_regex_object = re.compile(r\"XMAS\")\n",
    "samx_regex_object = re.compile(r\"SAMX\")"
   ]
  },
  {
   "cell_type": "markdown",
   "metadata": {},
   "source": [
    "A function that uses the regex objects to find all occurences of the words XMAS and SAMX"
   ]
  },
  {
   "cell_type": "code",
   "execution_count": 8,
   "metadata": {},
   "outputs": [],
   "source": [
    "def horizontal_counter(target_word, puzzle_input):\n",
    "    list_of_counts = []\n",
    "    for row in puzzle_input:\n",
    "        matches = re.findall(target_word, row)\n",
    "        list_of_counts.append(len(matches))\n",
    "    return sum(list_of_counts)"
   ]
  },
  {
   "cell_type": "markdown",
   "metadata": {},
   "source": [
    "This one searches for the 'XMAS'"
   ]
  },
  {
   "cell_type": "code",
   "execution_count": 9,
   "metadata": {},
   "outputs": [],
   "source": [
    "horizontal_xmas_count = horizontal_counter(xmas_regex_object, puzzle_input)"
   ]
  },
  {
   "cell_type": "markdown",
   "metadata": {},
   "source": [
    "This one searches for the 'SAMX'"
   ]
  },
  {
   "cell_type": "code",
   "execution_count": 10,
   "metadata": {},
   "outputs": [],
   "source": [
    "horizontal_samx_count = horizontal_counter(samx_regex_object, puzzle_input)"
   ]
  },
  {
   "cell_type": "markdown",
   "metadata": {},
   "source": [
    "Let's double check the results of our functions. We can then add them to our counter to get a total of all the horizontal occurences of the words."
   ]
  },
  {
   "cell_type": "code",
   "execution_count": 11,
   "metadata": {},
   "outputs": [
    {
     "name": "stdout",
     "output_type": "stream",
     "text": [
      "218\n",
      "262\n"
     ]
    }
   ],
   "source": [
    "print(horizontal_xmas_count)\n",
    "print(horizontal_samx_count)"
   ]
  },
  {
   "cell_type": "code",
   "execution_count": 12,
   "metadata": {},
   "outputs": [],
   "source": [
    "count_of_xmas_occurences += horizontal_xmas_count\n",
    "count_of_xmas_occurences += horizontal_samx_count"
   ]
  },
  {
   "cell_type": "code",
   "execution_count": 13,
   "metadata": {},
   "outputs": [
    {
     "name": "stdout",
     "output_type": "stream",
     "text": [
      "The total amount of 'XMAS's so far is: 480\n"
     ]
    }
   ],
   "source": [
    "print(f\"The total amount of 'XMAS's so far is: {count_of_xmas_occurences}\")"
   ]
  },
  {
   "cell_type": "code",
   "execution_count": 14,
   "metadata": {},
   "outputs": [
    {
     "name": "stdout",
     "output_type": "stream",
     "text": [
      "The height of the matrix is: 140\n",
      "The width of the matrix is: 140\n"
     ]
    }
   ],
   "source": [
    "print(f\"The height of the matrix is: {len(puzzle_input)}\")\n",
    "\n",
    "print(f\"The width of the matrix is: {len(puzzle_input[0])}\")"
   ]
  }
 ],
 "metadata": {
  "kernelspec": {
   "display_name": ".venv",
   "language": "python",
   "name": "python3"
  },
  "language_info": {
   "codemirror_mode": {
    "name": "ipython",
    "version": 3
   },
   "file_extension": ".py",
   "mimetype": "text/x-python",
   "name": "python",
   "nbconvert_exporter": "python",
   "pygments_lexer": "ipython3",
   "version": "3.12.4"
  }
 },
 "nbformat": 4,
 "nbformat_minor": 2
}
