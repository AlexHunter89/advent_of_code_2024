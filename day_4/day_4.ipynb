{
 "cells": [
  {
   "cell_type": "markdown",
   "metadata": {},
   "source": [
    "# --- Day 4: Ceres Search ---\n",
    "\"Looks like the Chief's not here. Next!\" One of The Historians pulls out a device and pushes the only button on it. After a brief flash, you recognize the interior of the Ceres monitoring station!\n",
    "\n",
    "As the search for the Chief continues, a small Elf who lives on the station tugs on your shirt; she'd like to know if you could help her with her word search (your puzzle input). She only has to find one word: XMAS.\n",
    "\n",
    "This word search allows words to be horizontal, vertical, diagonal, written backwards, or even overlapping other words. It's a little unusual, though, as you don't merely need to find one instance of XMAS - you need to find all of them. Here are a few ways XMAS might appear, where irrelevant characters have been replaced with .:\n",
    "\n",
    "\n",
    "..X...\n",
    "\n",
    ".SAMX.\n",
    "\n",
    ".A..A.\n",
    "\n",
    "XMAS.S\n",
    "\n",
    ".X....\n",
    "\n",
    "The actual word search will be full of letters instead. For example:\n",
    "\n",
    "MMMSXXMASM\n",
    "\n",
    "MSAMXMSMSA\n",
    "\n",
    "AMXSXMAAMM\n",
    "\n",
    "MSAMASMSMX\n",
    "\n",
    "XMASAMXAMM\n",
    "\n",
    "XXAMMXXAMA\n",
    "\n",
    "SMSMSASXSS\n",
    "\n",
    "SAXAMASAAA\n",
    "\n",
    "MAMMMXMMMM\n",
    "\n",
    "MXMXAXMASX\n",
    "\n",
    "In this word search, XMAS occurs a total of 18 times; here's the same word search again, but where letters not involved in any XMAS have been replaced with .:\n",
    "\n",
    "....XXMAS.\n",
    "\n",
    ".SAMXMS...\n",
    "\n",
    "...S..A...\n",
    "\n",
    "..A.A.MS.X\n",
    "\n",
    "XMASAMX.MM\n",
    "\n",
    "X.....XA.A\n",
    "\n",
    "S.S.S.S.SS\n",
    "\n",
    ".A.A.A.A.A\n",
    "\n",
    "..M.M.M.MM\n",
    "\n",
    ".X.X.XMASX\n",
    "\n",
    "Take a look at the little Elf's word search. How many times does XMAS appear?"
   ]
  },
  {
   "cell_type": "markdown",
   "metadata": {},
   "source": [
    "## Puzzle Attempt\n",
    "\n",
    "First, we import unnecessary libraries..."
   ]
  },
  {
   "cell_type": "code",
   "execution_count": 1,
   "metadata": {},
   "outputs": [
    {
     "name": "stdout",
     "output_type": "stream",
     "text": [
      "SAXMASMMMASAMMMMXXMMXMMMSSMMMXSAAXMSSMSSSSSSSSXSASXMSMMMSASXSXMASXMSSSMXSSMXSMSSXMXXSXMXAMXMASXASXMSAMSSSMMAAXAMMXXSAMMSXSSSSMSMMSMSAXSAMXMX\n",
      "MXXAAMAAMAMASXSSSMMSAMMSAMASMMSXSAMXAAMAAAAAAXSXAMMMAMAAXAMMAXXAXAAAXMAMMAMAMMAMXMAXSASXSAMXAXMSMAMMAAXSAMXSSXMMMAMMASAMXAAAXAAAXAAMAMXAMXAM\n",
      "XSXMASXMMXSAMXAAXMASASMMXXAMAXXAMXXSMMMMMMMMMMXMXMAMASASMMMAMMMMXMMMMSAMSAMAXMAMAMMXSAMXMMXMASXAMXMSMMMSMXMXAXSAMSXSAMASMMMMMSMSMMSMAMSXMASA\n",
      "The height of the matrix is: 140\n",
      "The width of the matrix is: 140\n",
      "S\n"
     ]
    }
   ],
   "source": [
    "from pathlib import Path\n",
    "\n",
    "puzzle_input_path = Path(\"puzzle_input_day_4.txt\")\n",
    "\n",
    "def puzzle_input_reader(file_path):\n",
    "    with open(file_path) as file:\n",
    "        puzzle_input = file.read().splitlines()\n",
    "        return puzzle_input\n",
    "    \n",
    "puzzle_grid = puzzle_input_reader(puzzle_input_path)\n",
    "\n",
    "for row in puzzle_grid[:3]:\n",
    "    print(row)\n",
    "\n",
    "print(f\"The height of the matrix is: {len(puzzle_grid)}\")\n",
    "\n",
    "print(f\"The width of the matrix is: {len(puzzle_grid[0])}\")\n",
    "\n",
    "print(puzzle_grid[0][0])"
   ]
  },
  {
   "cell_type": "code",
   "execution_count": 2,
   "metadata": {},
   "outputs": [],
   "source": [
    "list_of_directions = [\n",
    "    (0, 1),\n",
    "    (0,-1),\n",
    "    (1,0),\n",
    "    (-1,0),\n",
    "    (1,1),\n",
    "    (1,-1),\n",
    "    (-1,1),\n",
    "    (-1,-1),\n",
    "]\n",
    "\n",
    "target_word = \"XMAS\"\n",
    "\n",
    "target_word_minus_one_length = len(target_word) - 1\n",
    "\n",
    "word_count = 0\n",
    "\n",
    "for row in range(len(puzzle_grid)):\n",
    "    for column in range(len(puzzle_grid[row])):\n",
    "        for direction in list_of_directions:\n",
    "            height_needed = row + (target_word_minus_one_length * direction[0])\n",
    "            width_needed = column + (target_word_minus_one_length * direction[1])\n",
    "            if 0 <= height_needed < len(puzzle_grid) and 0 <= width_needed < len(puzzle_grid[row]):\n",
    "                matches_word = True\n",
    "                for i in range(len(target_word)):\n",
    "                    current_row = row + i * direction[0]\n",
    "                    current_col = column + i * direction[1]\n",
    "                    if puzzle_grid[current_row][current_col] != target_word[i]:\n",
    "                        matches_word = False\n",
    "                        break\n",
    "                if matches_word:\n",
    "                    word_count += 1"
   ]
  },
  {
   "cell_type": "code",
   "execution_count": 3,
   "metadata": {},
   "outputs": [
    {
     "name": "stdout",
     "output_type": "stream",
     "text": [
      "2633\n"
     ]
    }
   ],
   "source": [
    "print(word_count)"
   ]
  },
  {
   "cell_type": "code",
   "execution_count": null,
   "metadata": {},
   "outputs": [],
   "source": []
  }
 ],
 "metadata": {
  "kernelspec": {
   "display_name": ".venv",
   "language": "python",
   "name": "python3"
  },
  "language_info": {
   "codemirror_mode": {
    "name": "ipython",
    "version": 3
   },
   "file_extension": ".py",
   "mimetype": "text/x-python",
   "name": "python",
   "nbconvert_exporter": "python",
   "pygments_lexer": "ipython3",
   "version": "3.12.4"
  }
 },
 "nbformat": 4,
 "nbformat_minor": 2
}
