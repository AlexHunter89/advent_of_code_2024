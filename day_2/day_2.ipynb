{
 "cells": [
  {
   "cell_type": "markdown",
   "metadata": {},
   "source": [
    "# --- Day 2: Red-Nosed Reports ---\n",
    "Fortunately, the first location The Historians want to search isn't a long walk from the Chief Historian's office.\n",
    "\n",
    "While the Red-Nosed Reindeer nuclear fusion/fission plant appears to contain no sign of the Chief Historian, the engineers there run up to you as soon as they see you. Apparently, they still talk about the time Rudolph was saved through molecular synthesis from a single electron.\n",
    "\n",
    "They're quick to add that - since you're already here - they'd really appreciate your help analyzing some unusual data from the Red-Nosed reactor. You turn to check if The Historians are waiting for you, but they seem to have already divided into groups that are currently searching every corner of the facility. You offer to help with the unusual data.\n",
    "\n",
    "The unusual data (your puzzle input) consists of many reports, one report per line. Each report is a list of numbers called levels that are separated by spaces. For example:\n",
    "\n",
    "7 6 4 2 1\n",
    "\n",
    "1 2 7 8 9\n",
    "\n",
    "9 7 6 2 1\n",
    "\n",
    "1 3 2 4 5\n",
    "\n",
    "8 6 4 4 1\n",
    "\n",
    "1 3 6 7 9\n",
    "\n",
    "This example data contains six reports each containing five levels.\n",
    "\n",
    "The engineers are trying to figure out which reports are safe. The Red-Nosed reactor safety systems can only tolerate levels that are either gradually increasing or gradually decreasing. So, a report only counts as safe if both of the following are true:\n",
    "\n",
    "The levels are either all increasing or all decreasing.\n",
    "Any two adjacent levels differ by at least one and at most three.\n",
    "In the example above, the reports can be found safe or unsafe by checking those rules:\n",
    "\n",
    "7 6 4 2 1: Safe because the levels are all decreasing by 1 or 2.\n",
    "\n",
    "1 2 7 8 9: Unsafe because 2 7 is an increase of 5.\n",
    "\n",
    "9 7 6 2 1: Unsafe because 6 2 is a decrease of 4.\n",
    "\n",
    "1 3 2 4 5: Unsafe because 1 3 is increasing but 3 2 is decreasing.\n",
    "\n",
    "8 6 4 4 1: Unsafe because 4 4 is neither an increase or a decrease.\n",
    "\n",
    "1 3 6 7 9: Safe because the levels are all increasing by 1, 2, or 3.\n",
    "\n",
    "So, in this example, 2 reports are safe.\n",
    "\n",
    "Analyze the unusual data from the engineers. How many reports are safe?"
   ]
  },
  {
   "cell_type": "markdown",
   "metadata": {},
   "source": [
    "# Puzzle Attempt"
   ]
  },
  {
   "cell_type": "code",
   "execution_count": 1,
   "metadata": {},
   "outputs": [
    {
     "name": "stdout",
     "output_type": "stream",
     "text": [
      "[['44', '47', '48', '49', '48'], ['64', '66', '68', '69', '71', '72', '72'], ['21', '22', '25', '26', '28', '30', '31', '35'], ['41', '43', '44', '46', '47', '50', '57'], ['32', '35', '36', '35', '38', '40', '43', '44'], ['95', '97', '99', '97', '94'], ['63', '66', '65', '67', '69', '69'], ['42', '44', '41', '43', '45', '47', '48', '52'], ['69', '71', '72', '71', '76'], ['77', '78', '78', '80', '82', '84']]\n",
      "The length of the list of reports is: 1000\n"
     ]
    }
   ],
   "source": [
    "import pprint\n",
    "\n",
    "with open('puzzle_input_day_2.txt') as file:\n",
    "    rough_list_of_reports = file.read().splitlines()\n",
    "\n",
    "list_of_reports = []\n",
    "\n",
    "for row in rough_list_of_reports:\n",
    "    list_of_reports.append(row.split(' '))\n",
    "\n",
    "print(list_of_reports[:10])\n",
    "\n",
    "print(f\"The length of the list of reports is: {len(list_of_reports)}\")"
   ]
  },
  {
   "cell_type": "code",
   "execution_count": 2,
   "metadata": {},
   "outputs": [
    {
     "name": "stdout",
     "output_type": "stream",
     "text": [
      "The length of the list of potentially safe reports is: 466\n"
     ]
    }
   ],
   "source": [
    "potentially_safe_reports = []\n",
    "unsafe_reports = []\n",
    "\n",
    "def distance_finder_function(reports_input):\n",
    "    for index, report in enumerate(reports_input):\n",
    "        is_report_safe = True\n",
    "\n",
    "        for index_level_2 in range(len(report[:-1])):\n",
    "            distance_between_values = int(report[index_level_2]) - int(report[(index_level_2 + 1)])\n",
    "            absolute_distance_between_values = abs(distance_between_values)\n",
    "            if absolute_distance_between_values < 1 or absolute_distance_between_values > 3:\n",
    "                is_report_safe = False\n",
    "        if is_report_safe:\n",
    "            potentially_safe_reports.append(reports_input[index])\n",
    "        else:\n",
    "            unsafe_reports.append(reports_input[index])\n",
    "    return None\n",
    "\n",
    "distance_finder_function(list_of_reports)\n",
    "\n",
    "print(f\"The length of the list of potentially safe reports is: {len(potentially_safe_reports)}\")"
   ]
  },
  {
   "cell_type": "code",
   "execution_count": 3,
   "metadata": {},
   "outputs": [
    {
     "name": "stdout",
     "output_type": "stream",
     "text": [
      "The length of the list of safe reports is: 432\n",
      "The length of the list of unsafe reports is: 568\n"
     ]
    }
   ],
   "source": [
    "safe_reports_list = []\n",
    "\n",
    "def progression_finder_function(reports_input):\n",
    "    for index, report in enumerate(reports_input):\n",
    "        has_increasing = False\n",
    "        has_decreasing = False\n",
    "        for index_level_2 in range(len(report[:-1])):\n",
    "            if (int(report[index_level_2]) - int(report[(index_level_2 + 1)])) < 0:\n",
    "                has_increasing = True\n",
    "            else:\n",
    "                has_decreasing = True\n",
    "        if has_increasing and has_decreasing:\n",
    "            unsafe_reports.append(reports_input[index])\n",
    "        else:\n",
    "            safe_reports_list.append(reports_input[index])\n",
    "    return None\n",
    "\n",
    "progression_finder_function(potentially_safe_reports)\n",
    "\n",
    "print(f\"The length of the list of safe reports is: {len(safe_reports_list)}\")\n",
    "print(f\"The length of the list of unsafe reports is: {len(unsafe_reports)}\")"
   ]
  },
  {
   "cell_type": "code",
   "execution_count": null,
   "metadata": {},
   "outputs": [],
   "source": []
  }
 ],
 "metadata": {
  "kernelspec": {
   "display_name": ".venv",
   "language": "python",
   "name": "python3"
  },
  "language_info": {
   "codemirror_mode": {
    "name": "ipython",
    "version": 3
   },
   "file_extension": ".py",
   "mimetype": "text/x-python",
   "name": "python",
   "nbconvert_exporter": "python",
   "pygments_lexer": "ipython3",
   "version": "3.12.4"
  }
 },
 "nbformat": 4,
 "nbformat_minor": 2
}
